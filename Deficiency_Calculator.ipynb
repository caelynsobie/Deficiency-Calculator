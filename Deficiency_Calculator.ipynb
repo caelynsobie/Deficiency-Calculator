{
  "cells": [
    {
      "cell_type": "markdown",
      "metadata": {
        "id": "8ojn8jQm183m"
      },
      "source": [
        "Authors: Awildo Gutierrez, Elijah Leake, Caelyn Sobie\n",
        "\n",
        "Purpose of Program: Given any chemical reaction network, calculate and print its deficiency."
      ]
    },
    {
      "cell_type": "code",
      "execution_count": 16,
      "metadata": {
        "id": "E0vPi3OIyzUc"
      },
      "outputs": [],
      "source": [
        "import numpy as np\n",
        "\n",
        "def rank(network):\n",
        "    rxn_vectors = []\n",
        "    \n",
        "    for i in range(len(network)):\n",
        "        for rxn in network[i]:\n",
        "            rxn_vector = sub(rxn[1],rxn[0])\n",
        "            rxn_vectors.append(rxn_vector) \n",
        "\n",
        "    stoich_mat = np.asarray(rxn_vectors) \n",
        "    return np.linalg.matrix_rank(stoich_mat)\n"
      ]
    },
    {
      "cell_type": "code",
      "execution_count": 17,
      "metadata": {
        "id": "uZwHKMIGyzUo"
      },
      "outputs": [],
      "source": [
        "\n",
        "def sub(vec1,vec2):\n",
        "    \"\"\"Subtracts 2 complex vectors lst1 - lst2 by returning element-wise each element in lst1 minus each element in lst2. Note lst1 and lst2 should be the same length.\"\"\"\n",
        "    result = []\n",
        "\n",
        "    for i in range(len(vec1)):\n",
        "        result.append(vec1[i]-vec2[i])\n",
        "\n",
        "    return result\n"
      ]
    },
    {
      "cell_type": "code",
      "execution_count": 18,
      "metadata": {
        "id": "glSOddx-yzUq"
      },
      "outputs": [],
      "source": [
        "def num_complexes(network):\n",
        "    \"\"\"Returns the number of unique complexes\"\"\"\n",
        "    complexes_old = [] # flattened network\n",
        "    \n",
        "    for comp in network:\n",
        "        for (c1,c2) in comp:\n",
        "            complexes_old.append(c1)\n",
        "            complexes_old.append(c2)\n",
        "\n",
        "    complexes_new = []\n",
        "\n",
        "    for i in complexes_old:\n",
        "        if i not in complexes_new:\n",
        "            complexes_new.append(i)\n",
        "\n",
        "    return len(complexes_new)\n"
      ]
    },
    {
      "cell_type": "code",
      "execution_count": 19,
      "metadata": {
        "id": "BF59RuzryzUr"
      },
      "outputs": [],
      "source": [
        "def num_species(network):\n",
        "    \"\"\"Returns the number of chemical species.\"\"\"\n",
        "    return len(network[0][0][0]) \n"
      ]
    },
    {
      "cell_type": "code",
      "execution_count": 20,
      "metadata": {
        "id": "RVlShABwyzUs"
      },
      "outputs": [],
      "source": [
        "def num_connected(network):\n",
        "    \"\"\"Returns the number of connected components\"\"\"\n",
        "    return len(network)\n"
      ]
    },
    {
      "cell_type": "code",
      "execution_count": 21,
      "metadata": {
        "id": "BsPBU6QHyzUu"
      },
      "outputs": [],
      "source": [
        "def deficiency(network):\n",
        "    \"\"\"Returns the deficiency.\"\"\"\n",
        "    return num_complexes(network) - num_connected(network) - rank(network)\n"
      ]
    },
    {
      "cell_type": "code",
      "execution_count": 22,
      "metadata": {
        "colab": {
          "base_uri": "https://localhost:8080/"
        },
        "id": "GrDdP1UM0qTR",
        "outputId": "a75efc9e-1c38-4966-d70a-ee37a5f6d5e7"
      },
      "outputs": [
        {
          "name": "stdout",
          "output_type": "stream",
          "text": [
            "Deficiency of network: 3 - 1 - 2 = 0\n"
          ]
        }
      ],
      "source": [
        "# example\n",
        "network = [ [([1,1,0,0],[2,0,1,0]),([2,0,1,0],[0,3,0,7])] ]\n",
        "print(\"Deficiency of network: {} - {} - {} = {}\".format(num_complexes(network), num_connected(network), rank(network), deficiency(network)))"
      ]
    }
  ],
  "metadata": {
    "colab": {
      "name": "Deficiency Calculator",
      "provenance": []
    },
    "interpreter": {
      "hash": "83fb3f115359a2f5a3349069a80babfc4910f2bfe0add2d4aaadbb38e3efc2c7"
    },
    "kernelspec": {
      "display_name": "Python 3.9.0 64-bit",
      "language": "python",
      "name": "python3"
    },
    "language_info": {
      "codemirror_mode": {
        "name": "ipython",
        "version": 3
      },
      "file_extension": ".py",
      "mimetype": "text/x-python",
      "name": "python",
      "nbconvert_exporter": "python",
      "pygments_lexer": "ipython3",
      "version": "3.9.0"
    }
  },
  "nbformat": 4,
  "nbformat_minor": 0
}
