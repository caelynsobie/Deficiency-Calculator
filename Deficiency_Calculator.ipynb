{
  "cells": [
    {
      "cell_type": "markdown",
      "source": [
        "Authors: Awildo Gutierrez, Elijah Leake, Caelyn Sobie\n",
        "\n",
        "Purpose of Program: Given any chemical reaction network, calculate and print the deficiency"
      ],
      "metadata": {
        "id": "8ojn8jQm183m"
      }
    },
    {
      "cell_type": "code",
      "execution_count": 1,
      "metadata": {
        "id": "E0vPi3OIyzUc"
      },
      "outputs": [],
      "source": [
        "import numpy as np\n",
        "\n",
        "def rank(network):\n",
        "    rxn_vectors = []\n",
        "    for i in range(len(network)):\n",
        "        for rxn in network[i]:\n",
        "            rxn_vector = sub(rxn[1],rxn[0])\n",
        "            rxn_vectors.append(rxn_vector) \n",
        "    # print(\"REACTIONS:\",rxn_vectors) # uncomment if you want reactions\n",
        "    stoich_mat = np.asarray(rxn_vectors) # the reactions in a matrix\n",
        "    return stoich_mat, np.linalg.matrix_rank(stoich_mat)\n"
      ]
    },
    {
      "cell_type": "code",
      "execution_count": 2,
      "metadata": {
        "id": "uZwHKMIGyzUo"
      },
      "outputs": [],
      "source": [
        "# subtracts 2 complex vectors\n",
        "def sub(lst1,lst2):\n",
        "    # lst1 is the subtractee (being taken from)\n",
        "    # lst2 is the subtracer\n",
        "    \n",
        "    # returns elementwise each element in lst1 minus each element in lst2\n",
        "    # lst1 and lst2 should be the same length\n",
        "    new_lst = []\n",
        "    for i in range(len(lst1)):\n",
        "        new_lst.append(lst1[i]-lst2[i])\n",
        "    return new_lst"
      ]
    },
    {
      "cell_type": "code",
      "execution_count": 3,
      "metadata": {
        "id": "glSOddx-yzUq"
      },
      "outputs": [],
      "source": [
        "# returns the number of unique complexes\n",
        "def num_complexes(network):\n",
        "    c_old = [] # flattened network\n",
        "    for comp in network:\n",
        "        for (c1,c2) in comp:\n",
        "            c_old.append(c1)\n",
        "            c_old.append(c2)\n",
        "\n",
        "    c_new = []\n",
        "    for i in c_old:\n",
        "        if i not in c_new:\n",
        "            c_new.append(i)\n",
        "    return len(c_new)"
      ]
    },
    {
      "cell_type": "code",
      "execution_count": 4,
      "metadata": {
        "id": "BF59RuzryzUr"
      },
      "outputs": [],
      "source": [
        "# returns the number of species\n",
        "def num_species(network):\n",
        "    return len(network[0][0][0]) "
      ]
    },
    {
      "cell_type": "code",
      "execution_count": 5,
      "metadata": {
        "id": "RVlShABwyzUs"
      },
      "outputs": [],
      "source": [
        "# returns the number of connected components\n",
        "def num_connected(network):\n",
        "    return len(network)"
      ]
    },
    {
      "cell_type": "code",
      "execution_count": 6,
      "metadata": {
        "id": "BsPBU6QHyzUu"
      },
      "outputs": [],
      "source": [
        "# returns the deficiency\n",
        "def deficiency(network):\n",
        "    return num_complexes(network) - num_connected(network) - rank(network)[1]"
      ]
    },
    {
      "cell_type": "code",
      "execution_count": 7,
      "metadata": {
        "id": "DKszVOi5yzUv"
      },
      "outputs": [],
      "source": [
        "def rank_pres(network1,network2):\n",
        "    # Is rank the same in 1 and 2?\n",
        "    return rank(network1) == rank(network2)"
      ]
    },
    {
      "cell_type": "code",
      "source": [
        "# example\n",
        "# to see stoiciometric matrix remove \"[1]\" from \"rank(network)[1]\"\n",
        "network = [ [([1,1,0,0],[2,0,1,0]),([2,0,1,0],[0,3,0,7])] ]\n",
        "print(\"Deficiency of network : {} - {} - {} = {}\".format(num_complexes(network), num_connected(network), rank(network)[1], deficiency(network)))"
      ],
      "metadata": {
        "colab": {
          "base_uri": "https://localhost:8080/"
        },
        "id": "GrDdP1UM0qTR",
        "outputId": "a75efc9e-1c38-4966-d70a-ee37a5f6d5e7"
      },
      "execution_count": 10,
      "outputs": [
        {
          "output_type": "stream",
          "name": "stdout",
          "text": [
            "Deficiency of network : 3 - 1 - 2 = 0\n"
          ]
        }
      ]
    }
  ],
  "metadata": {
    "interpreter": {
      "hash": "83fb3f115359a2f5a3349069a80babfc4910f2bfe0add2d4aaadbb38e3efc2c7"
    },
    "kernelspec": {
      "display_name": "Python 3.9.0 64-bit",
      "language": "python",
      "name": "python3"
    },
    "language_info": {
      "codemirror_mode": {
        "name": "ipython",
        "version": 3
      },
      "file_extension": ".py",
      "mimetype": "text/x-python",
      "name": "python",
      "nbconvert_exporter": "python",
      "pygments_lexer": "ipython3",
      "version": "3.9.0"
    },
    "colab": {
      "name": "Deficiency Calculator",
      "provenance": []
    }
  },
  "nbformat": 4,
  "nbformat_minor": 0
}